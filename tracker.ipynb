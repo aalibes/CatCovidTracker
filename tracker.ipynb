{
 "cells": [
  {
   "cell_type": "code",
   "execution_count": 381,
   "metadata": {},
   "outputs": [],
   "source": [
    "from urllib.request import urlopen\n",
    "import pandas as pd\n",
    "import matplotlib.pyplot as plt\n",
    "import seaborn as sns\n",
    "import numpy as np\n",
    "import requests\n",
    "import sys\n",
    "from urllib.parse import urlparse\n",
    "%matplotlib notebook\n",
    "\n",
    "import warnings\n",
    "warnings.filterwarnings('ignore')\n",
    "\n",
    "#This will return last modified time of given web page url\n",
    "def get_last_modified(url):\n",
    "    result = urlparse(url)\n",
    "    if True if [result.scheme, result.netloc, result.path] else False:\n",
    "        header = requests.head(url).headers\n",
    "        if 'Last-Modified' in header:\n",
    "            return header['Last-Modified']\n",
    "        print (\"Data is not available\")\n",
    "        return -1\n",
    "    else:\n",
    "        return -1\n",
    "\n",
    "def getNeedNewFile(last_modified):\n",
    "    text_file = open(\"lastmodified.txt\", \"r\")\n",
    "    previous_modified = text_file.read()\n",
    "    text_file.close()\n",
    "    if last_modified == previous_modified:\n",
    "        return False\n",
    "    else:\n",
    "        return True\n",
    "\n",
    "def addLastModified(last_modified):\n",
    "    text_file = open(\"lastmodified.txt\", \"w\")\n",
    "    text_file.write(last_modified)\n",
    "    text_file.close()\n",
    "    text_file2 = open(\"toTweet.txt\", \"w\")\n",
    "    text_file2.write(\"Yes\")\n",
    "    text_file2.close()\n",
    "    \n",
    "def DownloadAndSaveFile(url,filename):\n",
    "    import urllib.request \n",
    "    urllib.request.urlretrieve(url, filename)\n",
    "    \n",
    "\n",
    "#2020 population of Catalonia from https://www.idescat.cat/pub/?id=aec&n=245\n",
    "popCatalunya = 7722203\n",
    "color1stdose = \"springgreen\"\n",
    "color2ndose = \"seagreen\"\n",
    "colorcases = \"tomato\"\n",
    "colorICU = \"cadetblue\"\n",
    "colorDeaths= \"black\"\n",
    "colorIA14 = \"peru\""
   ]
  },
  {
   "cell_type": "code",
   "execution_count": null,
   "metadata": {},
   "outputs": [
    {
     "name": "stdout",
     "output_type": "stream",
     "text": [
      "Download new file? True\n"
     ]
    }
   ],
   "source": [
    "#Catalonia's health department data https://dadescovid.cat/descarregues\n",
    "urldatafile = \"https://dadescovid.cat/static/csv/catalunya_diari_total_pob.zip\"\n",
    "urldatafile2 = \"https://dadescovid.cat/static/csv/regio_diari_total_pob.zip\"\n",
    "datafile = \"data/catalunya_diari_total_pob.zip\"\n",
    "datafile2 = \"data/regio_diari_total_pob.zip\"\n",
    "\n",
    "last_modified = get_last_modified(urldatafile)\n",
    "toget = getNeedNewFile(last_modified)\n",
    "print(\"Download new file?\", toget)\n",
    "if toget:\n",
    "    DownloadAndSaveFile(urldatafile,datafile)\n",
    "    DownloadAndSaveFile(urldatafile2,datafile2)\n",
    "    addLastModified(last_modified)\n",
    "    \n",
    "df = pd.read_csv(datafile, sep=\";\")\n",
    "dfreg = pd.read_csv(datafile2, sep=\";\")\n",
    "\n",
    "last_update = max(df[\"DATA\"])\n",
    "#df.head()"
   ]
  },
  {
   "cell_type": "markdown",
   "metadata": {},
   "source": [
    "**Check if new data has been added to the source file**"
   ]
  },
  {
   "cell_type": "code",
   "execution_count": null,
   "metadata": {},
   "outputs": [],
   "source": [
    "previousdf_columns = ['NOM',\n",
    " 'CODI',\n",
    " 'DATA',\n",
    " 'SEXE',\n",
    " 'GRUP_EDAT',\n",
    " 'CASOS_CONFIRMAT',\n",
    " 'PCR',\n",
    " 'TAR',\n",
    " 'INGRESSOS_TOTAL',\n",
    " 'INGRESSOS_CRITIC',\n",
    " 'INGRESSATS_TOTAL',\n",
    " 'INGRESSATS_CRITIC',\n",
    " 'EXITUS',\n",
    " 'CASOS_PCR',\n",
    " 'CASOS_TAR',\n",
    " 'POSITIVITAT_PCR_NUM',\n",
    " 'POSITIVITAT_TAR_NUM',\n",
    " 'POSITIVITAT_PCR_DEN',\n",
    " 'POSITIVITAT_TAR_DEN',\n",
    " 'VACUNATS_DOSI_1',\n",
    " 'VACUNATS_DOSI_2']\n",
    "assert list(df.columns) == previousdf_columns, \"Source data has changed format\""
   ]
  },
  {
   "cell_type": "code",
   "execution_count": null,
   "metadata": {},
   "outputs": [],
   "source": [
    "df[\"DATA\"] = pd.to_datetime(df[\"DATA\"])\n",
    "dfagg = df.groupby(\"DATA\").agg(sum)\n",
    "#dfagg.tail()"
   ]
  },
  {
   "cell_type": "markdown",
   "metadata": {},
   "source": [
    "**Date of first vaccination recorded**"
   ]
  },
  {
   "cell_type": "code",
   "execution_count": null,
   "metadata": {},
   "outputs": [],
   "source": [
    "first_vaccination_date=min(dfagg.index[dfagg.VACUNATS_DOSI_1>0])\n",
    "first_vaccination_date"
   ]
  },
  {
   "cell_type": "code",
   "execution_count": null,
   "metadata": {},
   "outputs": [],
   "source": [
    "dfaggvac = dfagg[dfagg.index>=first_vaccination_date]\n",
    "dfaggvac.reset_index(inplace=True)\n",
    "dfaggvac['Weekend'] = np.where(dfaggvac[\"DATA\"].dt.weekday < 5,0,1)\n",
    "dfaggvac[\"1st dose percent\"] = dfaggvac[\"VACUNATS_DOSI_1\"].cumsum()/popCatalunya*100\n",
    "dfaggvac[\"2nd dose percent\"] = dfaggvac[\"VACUNATS_DOSI_2\"].cumsum()/popCatalunya*100\n",
    "#dfaggvac.head()"
   ]
  },
  {
   "cell_type": "code",
   "execution_count": null,
   "metadata": {},
   "outputs": [],
   "source": [
    "tidy = dfaggvac[[\"DATA\",\"VACUNATS_DOSI_1\",\"VACUNATS_DOSI_2\"]]\n",
    "tidy.columns = [\"DATA\",\"1st\",\"2nd\"]\n",
    "tidy = tidy.melt(id_vars=\"DATA\",ignore_index = False).rename(columns=str.title)\n",
    "tidy.rename(columns = {'Variable': 'Dose'} , inplace=True)\n",
    "tidy['Data'] = tidy['Data'].dt.strftime('%d-%b')"
   ]
  },
  {
   "cell_type": "code",
   "execution_count": null,
   "metadata": {},
   "outputs": [],
   "source": [
    "import datetime\n",
    "dfaggvac[\"VACUNATS_DOSI_1_2\"] = dfaggvac[\"VACUNATS_DOSI_1\"] + dfaggvac[\"VACUNATS_DOSI_2\"]\n",
    "maxvac = max(dfaggvac[\"VACUNATS_DOSI_1_2\"])\n",
    "idmax = dfaggvac[\"VACUNATS_DOSI_1_2\"].idxmax(axis=\"columns\")\n",
    "maxday= dfaggvac.loc[idmax,[\"DATA\"]][0]\n",
    "maxday = maxday.strftime(\"%m-%d\")\n",
    "maxvac,maxday"
   ]
  },
  {
   "cell_type": "code",
   "execution_count": null,
   "metadata": {},
   "outputs": [],
   "source": [
    "import matplotlib.ticker as ticker\n",
    "import matplotlib.pyplot as plt\n",
    "from matplotlib.dates import DateFormatter\n",
    "sns.set_style(\"ticks\")"
   ]
  },
  {
   "cell_type": "markdown",
   "metadata": {},
   "source": [
    "Extrapolate from last week number of vaccinations, when will all the Catalan population be vaccinated"
   ]
  },
  {
   "cell_type": "code",
   "execution_count": null,
   "metadata": {},
   "outputs": [],
   "source": [
    "lastweek = dfaggvac.tail(7)\n",
    "popCatalunya70 = int(round(popCatalunya*0.7))\n",
    "vaccperday = np.average(lastweek[\"VACUNATS_DOSI_2\"]) + np.average(lastweek[\"VACUNATS_DOSI_1\"])\n",
    "yesterday_vaccinations = lastweek[\"VACUNATS_DOSI_1\"].iloc[-1] + lastweek[\"VACUNATS_DOSI_2\"].iloc[-1] \n",
    "nonvaccinated = popCatalunya*(1 -  lastweek.loc[lastweek.index[-1], \"2nd dose percent\"] /100) + popCatalunya*(1 -  lastweek.loc[lastweek.index[-1], \"1st dose percent\"] /100)\n",
    "nonvaccinated70 = popCatalunya70*2 - (2*popCatalunya-nonvaccinated)\n",
    "\n",
    "days_to_end_vaccination = nonvaccinated/vaccperday\n",
    "days_to_end_vaccination70  = nonvaccinated70/vaccperday\n",
    "\n",
    "vaccination_end = (max(dfaggvac[\"DATA\"]) + datetime.timedelta(days=days_to_end_vaccination)).strftime(\"%Y-%m-%d\")\n",
    "vaccination_end70 = (max(dfaggvac[\"DATA\"]) + datetime.timedelta(days=days_to_end_vaccination70)).strftime(\"%Y-%m-%d\")\n",
    "\n",
    "print (vaccperday, days_to_end_vaccination, vaccination_end, nonvaccinated, popCatalunya, yesterday_vaccinations)\n",
    "print(vaccperday, days_to_end_vaccination70, vaccination_end70, nonvaccinated70, popCatalunya70)\n"
   ]
  },
  {
   "cell_type": "code",
   "execution_count": null,
   "metadata": {},
   "outputs": [],
   "source": [
    "fig = plt.figure(figsize=(8, 6))\n",
    "\n",
    "gs = fig.add_gridspec(3,2)\n",
    "\n",
    "date_form = DateFormatter(\"%m-%d\")\n",
    "# Remove horizontal space between axes\n",
    "fig.subplots_adjust(hspace=0)\n",
    "fig.suptitle(\"Catalonia: New daily vaccionations. Yesterday: \"+ str(yesterday_vaccinations) + \" vaccines\"\n",
    "            \"\\nExtrapolation from last 7 days (\" + str(int(vaccperday)) +\" vaccines/day):\\n 70% vaccinated \" + vaccination_end70 + \"; 100% vaccinated \" + vaccination_end)\n",
    "\n",
    "# Defining custom 'xlim' and 'ylim' values.\n",
    "maxx = max(dfaggvac[\"VACUNATS_DOSI_1\"].max(),dfaggvac[\"VACUNATS_DOSI_2\"].max())\n",
    "custom_ylim = (0, maxx+1000)\n",
    "\n",
    "# Setting the values for all axes.\n",
    "#plt.setp(ax1, ylim=custom_ylim)\n",
    "\n",
    "ax1 = fig.add_subplot(gs[0, 0])\n",
    "\n",
    "#ax1.bar(x=\"DATA\", height=\"VACUNATS_DOSI_1\",data=dfaggvac, color=color1stdose)\n",
    "ax1.fill_between(dfaggvac[\"DATA\"], 0, dfaggvac[\"VACUNATS_DOSI_1\"], color=color1stdose)\n",
    "\n",
    "ax1.set_ylabel(\"# 1st dose Vaccinations\",fontsize=10)\n",
    "ax1.tick_params(axis='x',which='both',bottom=False,top=False,labelbottom=False)\n",
    "ax2 = fig.add_subplot(gs[1, 0]) \n",
    "\n",
    "#ax2.bar(x=\"DATA\", height=\"VACUNATS_DOSI_2\",data=dfaggvac, color=color2ndose)\n",
    "ax2.fill_between(dfaggvac[\"DATA\"], 0, dfaggvac[\"VACUNATS_DOSI_2\"], color=color2ndose)\n",
    "\n",
    "ax2.set_xlabel(\"Date\",fontsize=14)\n",
    "ax2.set_ylabel(\"# 2nd dose Vaccinations\",fontsize=10)\n",
    "ax2.tick_params(axis='x',which='both',bottom=False,top=False,labelbottom=False)\n",
    "\n",
    "\n",
    "ax3 = fig.add_subplot(gs[2, 0]) \n",
    "\n",
    "#ax2.bar(x=\"DATA\", height=\"VACUNATS_DOSI_2\",data=dfaggvac, color=color2ndose)\n",
    "ax3.fill_between(dfaggvac[\"DATA\"], 0, dfaggvac[\"VACUNATS_DOSI_1_2\"], color=\"grey\")\n",
    "\n",
    "ax3.set_xlabel(\"Date\",fontsize=14)\n",
    "ax3.set_ylabel(\"# New Vaccinations\",fontsize=10)\n",
    "ax3.xaxis.set_major_formatter(date_form)\n",
    "ax3.tick_params(axis=\"x\",rotation=45)\n",
    "ax3.axhline(y = maxvac, color = 'gray', linestyle = '--')\n",
    "maxtext=\"Maximum vaccination day \" + str(maxday) + \":\\n \" + str(maxvac) + \" vaccines\"\n",
    "ax3.text(first_vaccination_date,maxvac-14000, maxtext,fontsize=8, color='gray')\n",
    "\n",
    "ax4 = fig.add_subplot(gs[:, 1])\n",
    "\n",
    "ax4.plot(dfaggvac[\"DATA\"], dfaggvac[\"1st dose percent\"], color=color1stdose, label=\"1st dose\")\n",
    "ax4.plot(dfaggvac[\"DATA\"], dfaggvac[\"2nd dose percent\"], color=color2ndose, label=\"2nd dose\")\n",
    "\n",
    "ax4.set_xlabel(\"Date\",fontsize=14)\n",
    "ax4.set_ylabel(\"% population vaccinated\",fontsize=14)\n",
    "ax4.xaxis.set_major_formatter(date_form)\n",
    "ax4.legend()\n",
    "ax4.tick_params(axis=\"x\",rotation=45)\n",
    "ax4.text(1.1, 0.5, \"Last Update: \" + last_update + \" Data: /Salut.   Plots by @CatCovidTracker\", transform=ax4.transAxes,\n",
    "        fontsize=10, color='gray', alpha=0.9,\n",
    "        ha='center', va='center', rotation='90')\n",
    "\n",
    "plt.show()\n",
    "plt.savefig('CurrentOverallVaccinationCat.png')"
   ]
  },
  {
   "cell_type": "code",
   "execution_count": null,
   "metadata": {
    "scrolled": true
   },
   "outputs": [],
   "source": [
    "fig3, ax3 = plt.subplots(3,1,figsize=(8, 6), sharex=True)\n",
    "date_form = DateFormatter(\"%m-%d\")\n",
    "# Remove horizontal space between axes\n",
    "fig3.subplots_adjust(hspace=0)\n",
    "fig3.suptitle(\"Catalonia: New cases/ICU/deaths.\")\n",
    "\n",
    "ax3[0].bar(x=\"DATA\", height=\"CASOS_CONFIRMAT\",data=dfaggvac, color=colorcases)\n",
    "ax3[0].set_ylabel(\"# cases\",fontsize=12)\n",
    "ax3[0].legend([\"Cases\"])\n",
    "\n",
    "ax3[1].bar(x=\"DATA\", height=\"INGRESSOS_CRITIC\",data=dfaggvac, color=colorICU)\n",
    "ax3[1].set_ylabel(\"# cases\",fontsize=12)\n",
    "ax3[1].legend([\"ICU patients\"])\n",
    "\n",
    "ax3[2].bar(x=\"DATA\", height=\"EXITUS\",data=dfaggvac, color=colorDeaths)\n",
    "ax3[2].set_xlabel(\"Date\",fontsize=14)\n",
    "ax3[2].set_ylabel(\"# cases\",fontsize=12)\n",
    "ax3[2].legend([\"Deaths\"])\n",
    "\n",
    "ax3[2].xaxis.set_major_formatter(date_form)\n",
    "\n",
    "ax3[2].text(1.05, 1.5, \"Last Update: \" + last_update + \" Data: /Salut.   Plots by @CatCovidTracker\", transform=ax3[2].transAxes,\n",
    "        fontsize=10, color='gray', alpha=0.9,\n",
    "        ha='center', va='center', rotation='90')\n",
    "\n",
    "fig3.align_ylabels()\n",
    "\n",
    "plt.show()\n",
    "plt.savefig('CurrentCasesICUDeathsCat.png')"
   ]
  },
  {
   "cell_type": "markdown",
   "metadata": {},
   "source": [
    "**Incidència acumulada a 14 dies per 100.000 habitants**"
   ]
  },
  {
   "cell_type": "code",
   "execution_count": null,
   "metadata": {},
   "outputs": [],
   "source": [
    "pop100 = popCatalunya/100000\n",
    "kk = dfagg[\"CASOS_CONFIRMAT\"].rolling('14d',min_periods=14).sum()/pop100\n",
    "kk = kk[kk.index>=first_vaccination_date]\n",
    "kk = pd.DataFrame(kk)\n",
    "\n",
    "fig,ax = plt.subplots(figsize=(8, 6))\n",
    "fig.suptitle(\"Catalonia:14-day Incidence Rate. Current:\" + str(round(kk[\"CASOS_CONFIRMAT\"][-1],0)))\n",
    "ax.plot(kk.index,kk[\"CASOS_CONFIRMAT\"],color=colorIA14)\n",
    "\n",
    "ax.set_xlabel(\"Date\",fontsize=14)\n",
    "ax.set_ylabel(\"14-day Incidence Rate per 100,000 Population\",fontsize=14)\n",
    "ax.xaxis.set_major_formatter(DateFormatter(\"%m-%d\"))\n",
    "ax.tick_params(axis=\"x\",rotation=45)\n",
    "\n",
    "ax.text(1.02, .5, \"Last Update: \" + last_update + \" Data: /Salut.   Plots by @CatCovidTracker\", transform=ax.transAxes,\n",
    "        fontsize=10, color='gray', alpha=0.9,\n",
    "        ha='center', va='center', rotation='90')\n",
    "plt.ylim(bottom=0) #ymin is your value\n",
    "\n",
    "plt.text(kk.index[-4], kk[\"CASOS_CONFIRMAT\"][-1]+20, round(kk[\"CASOS_CONFIRMAT\"][-1],0))\n",
    "plt.show()\n",
    "plt.savefig('IA14days.png')"
   ]
  },
  {
   "cell_type": "code",
   "execution_count": null,
   "metadata": {},
   "outputs": [],
   "source": [
    "dfage = df.groupby([\"DATA\",\"GRUP_EDAT\"]).agg(sum)\n",
    "#dfage.head()\n",
    "#Població per sexe i grups d'edat: https://www.idescat.cat/pub/?id=aec&n=253\n"
   ]
  },
  {
   "cell_type": "code",
   "execution_count": null,
   "metadata": {},
   "outputs": [],
   "source": [
    "#Downloaded from https://www.idescat.cat/pub/?id=aec&n=253\n",
    "popdf = pd.read_html(\"data/aec-253.xls\")\n",
    "popdf = popdf[0]\n",
    "popdf = popdf[:-4]\n",
    "popdf = popdf[[\"Unnamed: 0\", \"Homes\", \"Dones\", \"Total\"]]\n",
    "popdf.rename(columns={\"Unnamed: 0\":\"Age range\", \"Homes\" : \"Men\", \"Dones\":\"Women\"},inplace=True)\n",
    "popdf.replace({'\\.':''}, regex=True,inplace=True)\n",
    "popdf = popdf.astype({'Men': 'int64','Women': 'int64','Total': 'int64'})\n",
    "popdf"
   ]
  },
  {
   "cell_type": "code",
   "execution_count": null,
   "metadata": {},
   "outputs": [],
   "source": [
    "popranges = np.sum(popdf.loc[0:3,\"Total\"]), np.sum(popdf.loc[3:13,\"Total\"]), np.sum(popdf.loc[13:15,\"Total\"]),np.sum(popdf.loc[15:,\"Total\"])\n",
    "popranges = pd.Series(popranges,index=['Menors de 15','Entre 15 i 64', 'Entre 65 i 74', 'Majors de 74'])\n",
    "popranges"
   ]
  },
  {
   "cell_type": "code",
   "execution_count": null,
   "metadata": {},
   "outputs": [],
   "source": [
    "dfage.reset_index(inplace=True)\n",
    "dfage"
   ]
  },
  {
   "cell_type": "code",
   "execution_count": null,
   "metadata": {},
   "outputs": [],
   "source": [
    "dfage = dfage[dfage.DATA>=first_vaccination_date]\n",
    "aggAgedf = []\n",
    "for x in popranges.index:\n",
    "    x1 = dfage[dfage.GRUP_EDAT==x]\n",
    "    x1[\"1st dose percent\"] =  x1[\"VACUNATS_DOSI_1\"].cumsum()/popranges[x]*100\n",
    "    x1[\"2nd dose percent\"] =  x1[\"VACUNATS_DOSI_2\"].cumsum()/popranges[x]*100\n",
    "    \n",
    "    aggAgedf.append(x1)"
   ]
  },
  {
   "cell_type": "code",
   "execution_count": null,
   "metadata": {},
   "outputs": [],
   "source": [
    "fig, axs = plt.subplots(2, 2, sharey=True, figsize=(8,6))\n",
    "\n",
    "fig.suptitle(\"Catalonia: Age dependent trend\")\n",
    "\n",
    "eachtitle = [\"Under-15s\",\"15-64 years\",\"65-74 years\", \"75+ years\"]\n",
    "k=0\n",
    "for i in range(2):\n",
    "    for j in range(2):\n",
    "        \n",
    "        axs[i][j].plot(aggAgedf[k][\"DATA\"], aggAgedf[k][\"1st dose percent\"], color=color1stdose, label=\"1st dose\")\n",
    "        axs[i][j].plot(aggAgedf[k][\"DATA\"], aggAgedf[k][\"2nd dose percent\"], color=color2ndose, label=\"2nd dose\")\n",
    "        axs[i][j].set_xlabel(\"Date\",fontsize=14)\n",
    "        if(k%2==0): axs[i][j].set_ylabel(\"% population vaccinated\",fontsize=14)\n",
    "        axs[i][j].xaxis.set_major_formatter(date_form)    \n",
    "        axs[i][j].tick_params(axis=\"x\",rotation=45)\n",
    "        if(k%2==0): axs[i][j].tick_params(axis=\"y\")\n",
    "        #axs[i][j].title.set_text(eachtitle[k])\n",
    "        axs[i][j].text(.5, .9,eachtitle[k], transform=axs[i][j].transAxes,ha='center')\n",
    "        if(k==1): axs[i][j].legend()\n",
    "        k=k+1\n",
    "#        print(i,j,k)\n",
    "#a.legend()\n",
    "\n",
    "axs[i][j].text(1.04, 1., \"Last Update: \" + last_update + \" Data: /Salut.   Plots by @CatCovidTracker\", transform=axs[i][j].transAxes,\n",
    "        fontsize=10, color='gray', alpha=0.9,\n",
    "       ha='center', va='center', rotation='90')\n",
    "\n",
    "fig.subplots_adjust(wspace=0, hspace=0)\n",
    "\n",
    "plt.show()\n",
    "plt.savefig('CurrentByAgeVaccinationCat.png')"
   ]
  },
  {
   "cell_type": "markdown",
   "metadata": {},
   "source": [
    "**Data by region**"
   ]
  },
  {
   "cell_type": "code",
   "execution_count": null,
   "metadata": {},
   "outputs": [],
   "source": [
    "#https://dadescovid.cat/static/csv/regio_diari_total_pob.zip\n",
    "#Catalonia's health department data https://dadescovid.cat/descarregues\n",
    "\n",
    "#dfreg.head()"
   ]
  },
  {
   "cell_type": "code",
   "execution_count": null,
   "metadata": {},
   "outputs": [],
   "source": [
    "regions = dfreg[\"NOM\"].unique()\n",
    "dfreg[\"DATA\"] = pd.to_datetime(dfreg[\"DATA\"])\n",
    "dfreg = dfreg[dfreg.DATA>=first_vaccination_date]\n",
    "dfregagg = dfreg.groupby([\"NOM\",\"DATA\"]).agg(sum)\n",
    "#dfregagg.head()"
   ]
  },
  {
   "cell_type": "code",
   "execution_count": null,
   "metadata": {},
   "outputs": [],
   "source": [
    "#regions"
   ]
  },
  {
   "cell_type": "markdown",
   "metadata": {},
   "source": [
    "#Population data from https://catsalut.gencat.cat/web/.content/minisite/catsalut/proveidors_professionals/registres_catalegs/documents/poblacio-referencia.pdf\n",
    "\n",
    "**Regions sanitàries Població**\n",
    "\n",
    "Alt Pirineu i Aran 67.277\n",
    "\n",
    "Lleida 362.850\n",
    "\n",
    "Camp de Tarragona 607.999\n",
    "\n",
    "Terres de l'Ebre 176.817\n",
    "\n",
    "Girona 861.753\n",
    "\n",
    "Catalunya Central 526.959\n",
    "\n",
    "Barcelona 5.050.190\n",
    "\n",
    "    Àmbit Territorial Barcelona Ciutat 1.693.449\n",
    "    Àmbit Territorial Metropolità Nord 1.986.032\n",
    "    Àmbit Territorial Metropolità Sud 1.370.709\n",
    "\n",
    "Total Catalunya 7.653.845"
   ]
  },
  {
   "cell_type": "code",
   "execution_count": null,
   "metadata": {},
   "outputs": [],
   "source": [
    "popregions = pd.Series([67277, 1693449,607999,526959,861753,362850,1986032,1370709,176817],index=regions)\n",
    "popregions"
   ]
  },
  {
   "cell_type": "code",
   "execution_count": null,
   "metadata": {},
   "outputs": [],
   "source": [
    "dfregagg.reset_index(inplace=True)\n",
    "dfregagg.set_index(\"NOM\",inplace=True)\n",
    "dfregagg"
   ]
  },
  {
   "cell_type": "code",
   "execution_count": null,
   "metadata": {},
   "outputs": [],
   "source": [
    "dfregagg['Weekend'] = np.where(dfregagg[\"DATA\"].dt.weekday < 5,0,1)\n",
    "dfregagg['1st dose percent'] = dfregagg.groupby(\"NOM\")['VACUNATS_DOSI_1'].transform(pd.Series.cumsum)\n",
    "dfregagg['2nd dose percent'] = dfregagg.groupby(\"NOM\")['VACUNATS_DOSI_2'].transform(pd.Series.cumsum)\n",
    "\n",
    "\n",
    "#dfregagg[\"1st dose percent\"] = dfregagg[\"VACUNATS_DOSI_1\"].cumsum()/popCatalunya*100\n",
    "#dfregagg[\"2nd dose percent\"] = dfregagg[\"VACUNATS_DOSI_2\"].cumsum()/popCatalunya*100\n",
    "dfregagg['1st dose percent'] = dfregagg['1st dose percent']*100/popregions[dfregagg.index]\n",
    "dfregagg['2nd dose percent'] = dfregagg['2nd dose percent']*100/popregions[dfregagg.index]"
   ]
  },
  {
   "cell_type": "code",
   "execution_count": null,
   "metadata": {},
   "outputs": [],
   "source": [
    "#dfregagg.tail()"
   ]
  },
  {
   "cell_type": "code",
   "execution_count": null,
   "metadata": {},
   "outputs": [],
   "source": [
    "fig = plt.figure(figsize=(8, 6))\n",
    "fig.suptitle(\"Catalonia: Fully vaccinated population by region.\")\n",
    "ax = sns.lineplot(x=\"DATA\",y=\"2nd dose percent\",data=dfregagg,hue=\"NOM\",)\n",
    "ax.set_xlabel(\"Date\",fontsize=14)\n",
    "ax.set_ylabel(\"% population fully vaccinated\",fontsize=14)\n",
    "ax.xaxis.set_major_formatter(date_form)\n",
    "ax.legend()\n",
    "ax.tick_params(axis=\"x\",rotation=45)\n",
    "\n",
    "ax.text(1.04, 0.5, \"Last Update: \" + last_update + \" Data: /Salut.   Plots by @CatCovidTracker\", transform=ax.transAxes,\n",
    "        fontsize=10, color='gray', alpha=0.9,\n",
    "        ha='center', va='center', rotation='90')\n",
    "plt.savefig('CurrentRegionVaccinationCat.png')"
   ]
  },
  {
   "cell_type": "markdown",
   "metadata": {},
   "source": [
    "**Fully vaccinated vs people in hospitalized and ICU patients currently in hospital**"
   ]
  },
  {
   "cell_type": "code",
   "execution_count": null,
   "metadata": {},
   "outputs": [],
   "source": [
    "#dfaggvac.head()"
   ]
  },
  {
   "cell_type": "code",
   "execution_count": null,
   "metadata": {},
   "outputs": [],
   "source": [
    "# create figure and axis objects with subplots()\n",
    "fig,ax = plt.subplots(figsize=(8, 6))\n",
    "fig.suptitle(\"Catalonia: Is vaccination helping hospitals' occupation?.\")\n",
    "\n",
    "# make a plot\n",
    "ax.plot(dfaggvac[\"DATA\"], dfaggvac[\"2nd dose percent\"], color=color2ndose, label=\"Fully vaccinated rate\")\n",
    "ax.set_xlabel(\"Date\",fontsize=14)\n",
    "ax.set_ylabel(\"% Population fully vaccinated\",color=color2ndose,fontsize=14)\n",
    "ax.xaxis.set_major_formatter(DateFormatter(\"%m-%d\"))\n",
    "ax.tick_params(axis=\"x\",rotation=45)\n",
    "# twin object for two different y-axis on the sample plot\n",
    "ax2=ax.twinx()\n",
    "# make a plot with different y-axis using second axis object\n",
    "ax2.plot(dfaggvac[\"DATA\"], dfaggvac[\"INGRESSATS_TOTAL\"], color=\"black\", label=\"All patients\")\n",
    "ax2.plot(dfaggvac[\"DATA\"], dfaggvac[\"INGRESSATS_CRITIC\"], '--', color=\"black\", label=\"ICU patients\")\n",
    "\n",
    "ax2.set_ylabel(\"Hospital patients\",color=\"black\",fontsize=14)\n",
    "ax2.xaxis.set_major_formatter(DateFormatter(\"%m-%d\"))\n",
    "\n",
    "ax2.legend(loc='upper left')\n",
    "ax.text(1.12, .5, \"Last Update: \" + last_update + \" Data: /Salut.   Plots by @CatCovidTracker\", transform=ax2.transAxes,\n",
    "        fontsize=10, color='gray', alpha=0.9,\n",
    "        ha='center', va='center', rotation='90')\n",
    "plt.show()\n",
    "plt.savefig('HospitalVSVaccinationCat.png')"
   ]
  },
  {
   "cell_type": "code",
   "execution_count": null,
   "metadata": {},
   "outputs": [],
   "source": [
    "dflast = dfregagg[dfregagg.DATA==last_update]\n",
    "\n",
    "a=(dflast.loc[\"BARCELONA CIUTAT\"][\"2nd dose percent\"]*popregions[\"BARCELONA CIUTAT\"] \n",
    "+ dflast.loc[\"METROPOLITANA NORD\"][\"2nd dose percent\"]*popregions[\"METROPOLITANA NORD\"]\n",
    "+ dflast.loc[\"METROPOLITANA SUD\"][\"2nd dose percent\"]*popregions[\"METROPOLITANA SUD\"])\n",
    "\n",
    "b=(popregions[\"BARCELONA CIUTAT\"]+popregions[\"METROPOLITANA NORD\"]+popregions[\"METROPOLITANA SUD\"])\n",
    "dfaux = pd.DataFrame({'2nd dose percent':a/b},index=[\"BARCELONA\"])\n",
    "dflast = dflast.append(dfaux)\n",
    "dflast = dflast.drop([\"BARCELONA CIUTAT\", \"METROPOLITANA NORD\", \"METROPOLITANA SUD\"])\n",
    "dflast.reset_index(inplace=True)\n",
    "dflast.rename(columns={\"index\":\"NOMRS\"}, inplace=True)\n",
    "#dflast.head()"
   ]
  },
  {
   "cell_type": "code",
   "execution_count": null,
   "metadata": {},
   "outputs": [],
   "source": [
    "import geopandas as gpd\n",
    "dfmap=gpd.read_file(\"shapefile/ABS_2018/RegionsS_2018.shp\")\n",
    "dfmap[\"NOMRS\"] = dfmap[\"NOMRS\"].str.replace(\"Regió Sanitària \", '').str.upper()\n",
    "dfmap[\"NAME\"] = dfmap[\"NOMRS\"]\n",
    "dfmap.at[0, 'NAME'] = \"CAMP DE\\nTARRAGONA\"\n",
    "dfmap.at[3, 'NAME'] = \"CATALUNYA\\nCENTRAL\"\n",
    "dfmap.at[4, 'NAME'] = \"TERRES DE\\nL'EBRE\"\n",
    "dfmap.at[5, 'NAME'] = \"ALT PIRINEU\\nI ARAN\""
   ]
  },
  {
   "cell_type": "code",
   "execution_count": null,
   "metadata": {},
   "outputs": [],
   "source": [
    "dfmap = dfmap.merge(dflast[[\"NOMRS\",\"2nd dose percent\"]])\n",
    "dfmap.head(10)"
   ]
  },
  {
   "cell_type": "code",
   "execution_count": null,
   "metadata": {},
   "outputs": [],
   "source": [
    "fig, ax = plt.subplots(figsize = (8,6))\n",
    "fig.suptitle(\"Catalonia: Fully vaccinated population by region.\")\n",
    "ax.axis(\"off\")\n",
    "color_map = plt. cm. get_cmap('summer')\n",
    "reversed_color_map = color_map. reversed() \n",
    "\n",
    "dfmap.plot(ax=ax,column='2nd dose percent',  legend=True,cmap=reversed_color_map,  \n",
    "#           legend_kwds={'label': 'Percentage of fully vaccinated population'},\n",
    "#           vmin=0,vmax=min(100,1+max(dfmap[\"2nd dose percent\"])))\n",
    "           vmax=min(100,0+max(dfmap[\"2nd dose percent\"])))\n",
    "\n",
    "\n",
    "dfmap['coords'] = dfmap['geometry'].apply(lambda x: x.representative_point().coords[:])\n",
    "dfmap['coords'] = [coords[0] for coords in dfmap['coords']]\n",
    "\n",
    "dfmap['NAMEvac'] = dfmap['NAME'] +\"\\n\"+ round(dfmap[\"2nd dose percent\"],1).astype(str) + \"%\"\n",
    "for idx, row in dfmap.iterrows():\n",
    "    plt.annotate(s=row['NAMEvac'], xy=row['coords'],\n",
    "                 horizontalalignment='center', fontsize = 8,fontweight='bold',verticalalignment=\"top\")\n",
    "ax.text(1.04, 0.5, \"Last Update: \" + last_update + \" Data: /Salut.   Plots by @CatCovidTracker\", transform=ax.transAxes,\n",
    "        fontsize=10, color='gray', alpha=0.9,\n",
    "        ha='center', va='center', rotation='90')\n",
    "ax.text(1.2, 0.5, \"Percentage of fully vaccinated population\", transform=ax.transAxes,\n",
    "        fontsize=12, color='black', \n",
    "        ha='center', va='center', rotation='90')\n",
    "\n",
    "plt.savefig('MapCurrentRegionVaccinationCat.png')"
   ]
  },
  {
   "cell_type": "markdown",
   "metadata": {},
   "source": [
    "***Vacunació per al COVID-19 per àrea bàsica de salut***\n",
    "\n",
    "https://analisi.transparenciacatalunya.cat/Salut/Vacunaci-per-al-COVID-19-per-rea-b-sica-de-salut/tp23-dey4\n",
    "\n",
    "Aquestes dades provenen de diversos sistemes d'informació del Departament de Salut i del Servei Català de la Salut, detallats a https://dadescovid.cat/documentacio , i mostren per a cada dia, àrea bàsica de salut, sexe i grup d'edat, el nombre de dosis administrades de vacunes per al SARS-CoV-2, amb el detall del producte administrat i del número de dosi, i també el nombre de persones citades en la data de referència per a ser vacunades i per a les quals se n'ha descartat la vacunació, per algun d'aquests motius: per rebuig del pacient, per estar contraindicada la immunització o bé perquè el pacient ha passat la malaltia.\n",
    "\n",
    "En els casos en què no ha estat possible identificar l'àrea bàsica de salut de residència de la persona a qui s'ha administrat la dosi, o de qui se n'ha descartat la vacunació, el valor de la variable 'ABS' és 'No classificat'."
   ]
  },
  {
   "cell_type": "code",
   "execution_count": null,
   "metadata": {},
   "outputs": [],
   "source": [
    "urldatafile3 = \"https://analisi.transparenciacatalunya.cat/api/views/tp23-dey4/rows.csv?accessType=DOWNLOAD&bom=true&format=true&delimiter=%3B&sorting=true\"\n",
    "datafile3 = \"data/Vacunaci__per_al_COVID-19_per__rea_b_sica_de_salut.csv\"\n",
    "if toget:\n",
    "    DownloadAndSaveFile(urldatafile3,datafile3)\n",
    "casesdf = pd.read_csv(datafile3, sep=\";\")\n",
    "casesdf.head()"
   ]
  },
  {
   "cell_type": "code",
   "execution_count": null,
   "metadata": {},
   "outputs": [],
   "source": [
    "casesdf.loc[casesdf['NO_VACUNAT'] == \"No vacunat\", 'VACUNAT'] = 0\n",
    "casesdf.loc[casesdf['NO_VACUNAT'].isna(), 'VACUNAT'] = 1\n",
    "casesdf.head()"
   ]
  },
  {
   "cell_type": "code",
   "execution_count": null,
   "metadata": {},
   "outputs": [],
   "source": [
    "vacc_ratio = casesdf.groupby([\"REGIO\",\"VACUNAT\"])[\"VACUNAT\"].count().unstack()\n",
    "\n",
    "vacc_ratio.loc[\"BARCELONA\"] = vacc_ratio.loc[\"BARCELONA CIUTAT\"] + vacc_ratio.loc[\"METROPOLITANA NORD\"] + vacc_ratio.loc[\"METROPOLITANA SUD\"]\n",
    "vacc_ratio = vacc_ratio.drop([\"BARCELONA CIUTAT\",\"METROPOLITANA NORD\",\"METROPOLITANA SUD\",\"No classificat\"])\n",
    "vacc_ratio.reset_index(inplace=True)\n",
    "vacc_ratio.rename(columns={\"REGIO\":\"NOMRS\"}, inplace=True)"
   ]
  },
  {
   "cell_type": "code",
   "execution_count": null,
   "metadata": {},
   "outputs": [],
   "source": [
    "vacc_ratio[\"rejection_rate\"]= 100*vacc_ratio[0]/(vacc_ratio[0]+vacc_ratio[1])\n",
    "#vacc_ratio"
   ]
  },
  {
   "cell_type": "code",
   "execution_count": null,
   "metadata": {},
   "outputs": [],
   "source": [
    "dfmap = dfmap.merge(vacc_ratio[[\"NOMRS\",\"rejection_rate\"]])\n",
    "#dfmap.head()"
   ]
  },
  {
   "cell_type": "code",
   "execution_count": null,
   "metadata": {},
   "outputs": [],
   "source": [
    "fig, ax = plt.subplots(figsize = (8,6))\n",
    "fig.suptitle(\"Catalonia: Covid-19 Vaccination Rejection rate.\")\n",
    "ax.axis(\"off\")\n",
    "dfmap.plot(ax=ax,column='rejection_rate',  legend=True,cmap='Greys',  \n",
    "#           legend_kwds={'label': '% Rejected'},\n",
    "           vmin=0)\n",
    "\n",
    "\n",
    "dfmap['coords'] = dfmap['geometry'].apply(lambda x: x.representative_point().coords[:])\n",
    "dfmap['coords'] = [coords[0] for coords in dfmap['coords']]\n",
    "dfmap['NAMErej'] = dfmap['NAME'] +\"\\n\"+ round(dfmap[\"rejection_rate\"],1).astype(str) + \"%\"\n",
    "\n",
    "for idx, row in dfmap.iterrows():\n",
    "    plt.annotate(s=row['NAMErej'], xy=row['coords'],\n",
    "                 horizontalalignment='center', fontsize = 8,fontweight='bold',color=\"yellow\",verticalalignment=\"top\")\n",
    "ax.text(1.04, 0.5, \"Last Update: \" + last_update + \" Data: /Salut.   Plots by @CatCovidTracker\", transform=ax.transAxes,\n",
    "        fontsize=10, color='gray', alpha=0.9,\n",
    "        ha='center', va='center', rotation='90')\n",
    "ax.text(1.2, 0.5, \"Percentage of rejected vaccinations\", transform=ax.transAxes,\n",
    "        fontsize=12, color='black', \n",
    "        ha='center', va='center', rotation='90')\n",
    "plt.savefig('MapCurrentRegionRejectionCat.png')"
   ]
  },
  {
   "cell_type": "code",
   "execution_count": null,
   "metadata": {},
   "outputs": [],
   "source": [
    "casesdf = casesdf[casesdf.VACUNAT==1]\n",
    "fab = pd.DataFrame(casesdf.groupby([\"FABRICANT\"])[\"VACUNAT\"].count())\n",
    "fab[\"percentage\"] = 100* fab[\"VACUNAT\"]/sum(fab.VACUNAT)\n",
    "fab"
   ]
  },
  {
   "cell_type": "code",
   "execution_count": null,
   "metadata": {},
   "outputs": [],
   "source": [
    "fig, ax = plt.subplots(figsize = (8,6))\n",
    "fig.suptitle(\"Catalonia: Distribution of vaccine doses administered by producer.\")\n",
    "\n",
    "\n",
    "names = list(map(str.__add__, fab.index+\"\\n\", fab.percentage.round(2).astype(str)+\"%\"))\n",
    "# Create a circle at the center of the plot\n",
    "my_circle = plt.Circle( (0,0), 0.7, color='white')\n",
    "\n",
    "# Give color names\n",
    "plt.pie(fab.percentage, labels=names, colors=[\"steelblue\",\"red\",\"palevioletred\"],startangle=180)\n",
    "p = plt.gcf()\n",
    "p.gca().add_artist(my_circle)\n",
    "\n",
    "\n",
    "ax.text(1.08, 0.5, \"Last Update: \" + last_update + \" Data: /Salut.   Plots by @CatCovidTracker\", transform=ax.transAxes,\n",
    "        fontsize=10, color='gray', alpha=0.9,\n",
    "        ha='center', va='center', rotation='90')\n",
    "# Show the graph\n",
    "plt.show()\n",
    "\n",
    "plt.savefig('VaccineProducer.png')"
   ]
  },
  {
   "cell_type": "code",
   "execution_count": null,
   "metadata": {},
   "outputs": [],
   "source": [
    "casesvacdf = casesdf[casesdf.VACUNAT==1]\n",
    "casesvaccount = pd.DataFrame(casesvacdf.groupby([\"DATA\",\"DOSI\",\"FABRICANT\"]).agg('count')[\"VACUNAT\"])\n",
    "casesvaccount.reset_index(inplace = True)\n",
    "casesvaccount[\"DATA\"] = pd.to_datetime(casesvaccount[\"DATA\"],format=\"%d/%m/%Y\")\n",
    "casesvaccount.sort_values(by=\"DATA\",ascending=True,inplace=True)\n",
    "casesvaccount = casesvaccount.groupby([\"DATA\",\"FABRICANT\",\"DOSI\"])['VACUNAT'].sum().groupby(level=['FABRICANT','DOSI']).cumsum().reset_index(name='Cumsum')\n"
   ]
  },
  {
   "cell_type": "code",
   "execution_count": null,
   "metadata": {},
   "outputs": [],
   "source": [
    "vac1 = casesvaccount[casesvaccount.DOSI==1]\n",
    "vac2 = casesvaccount[casesvaccount.DOSI==2]\n",
    "vac1.drop(\"DOSI\",axis=1,inplace=True)\n",
    "vac2.drop(\"DOSI\",axis=1,inplace=True)\n",
    "vac1 = vac1.set_index([\"DATA\",\"FABRICANT\"]).unstack()\n",
    "vac2 = vac2.set_index([\"DATA\",\"FABRICANT\"]).unstack()\n",
    "vac1.columns = vac1.columns.droplevel()\n",
    "vac2.columns = vac2.columns.droplevel()"
   ]
  },
  {
   "cell_type": "code",
   "execution_count": null,
   "metadata": {},
   "outputs": [],
   "source": [
    "vac1.iloc[0].fillna(0,inplace=True)\n",
    "vac2.iloc[0].fillna(0,inplace=True)\n",
    "vac1.fillna(method='ffill',inplace=True)\n",
    "vac2.fillna(method='ffill',inplace=True)"
   ]
  },
  {
   "cell_type": "code",
   "execution_count": null,
   "metadata": {},
   "outputs": [],
   "source": [
    "fabs = list(fab.index)\n"
   ]
  },
  {
   "cell_type": "code",
   "execution_count": null,
   "metadata": {
    "scrolled": true
   },
   "outputs": [],
   "source": [
    "\n",
    "fig, axs = plt.subplots(2,   figsize=(8,6),sharex=True)\n",
    "fig.suptitle(\"Catalonia: Cumulative vaccination by producer\")\n",
    "old1 = 0\n",
    "old2 = 0\n",
    "\n",
    "colfab =[\"steelblue\",\"red\",\"palevioletred\"]\n",
    "for i in reversed(range(3)):\n",
    "    dose1 = vac1[fabs[i]]\n",
    "    dose2 = vac2[fabs[i]]\n",
    "    new1 = dose1+old1\n",
    "    new2 = dose2 + old2\n",
    "    axs[0].fill_between(dose1.index.get_level_values(0), old1, new1, color=colfab[i], label=fabs[i])\n",
    "    axs[1].fill_between(dose2.index.get_level_values(0), old2, new2, color=colfab[i], label=fabs[i])\n",
    "    old1=new1\n",
    "    old2=new2\n",
    "axs[0].legend(loc=\"upper left\")\n",
    "axs[0].set_ylabel(\"# of 1st doses\",fontsize=14)\n",
    "axs[1].set_ylabel(\"# of 2nd doses\",fontsize=14)\n",
    "axs[1].set_xlabel(\"Date\",fontsize=14)\n",
    "axs[1].xaxis.set_major_formatter(date_form) \n",
    "\n",
    "axs[1].text(1.05, 1., \"Last Update: \" + last_update + \" Data: /Salut.   Plots by @CatCovidTracker\", transform=axs[1].transAxes,\n",
    "        fontsize=10, color='gray', alpha=0.9,\n",
    "        ha='center', va='center', rotation='90')\n",
    "fig.subplots_adjust(wspace=0, hspace=0)\n",
    "\n",
    "plt.savefig('VaccineProducerByDate.png')"
   ]
  },
  {
   "cell_type": "markdown",
   "metadata": {},
   "source": [
    "Convert png to jpg for instagram and report if files have been updated"
   ]
  },
  {
   "cell_type": "code",
   "execution_count": null,
   "metadata": {},
   "outputs": [],
   "source": [
    "import os\n",
    "if(toget): os.system(\"./jpg.sh\")\n",
    "print(\"Data updated?\", toget)\n"
   ]
  },
  {
   "cell_type": "markdown",
   "metadata": {},
   "source": [
    "Take a look at https://vaccinetracker.ecdc.europa.eu/public/extensions/COVID-19/vaccine-tracker.html#target-group-tab"
   ]
  }
 ],
 "metadata": {
  "kernelspec": {
   "display_name": "Python 3",
   "language": "python",
   "name": "python3"
  },
  "language_info": {
   "codemirror_mode": {
    "name": "ipython",
    "version": 3
   },
   "file_extension": ".py",
   "mimetype": "text/x-python",
   "name": "python",
   "nbconvert_exporter": "python",
   "pygments_lexer": "ipython3",
   "version": "3.8.5"
  }
 },
 "nbformat": 4,
 "nbformat_minor": 4
}
